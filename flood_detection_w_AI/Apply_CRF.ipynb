{
 "cells": [
  {
   "cell_type": "markdown",
   "metadata": {
    "id": "N63nLhF9zczX"
   },
   "source": [
    "This code needs a high RAM runtime. Otherwise, the session would crash. If you don't have a Colab Pro subscription, please switch to [Kaggle Kernels](https://www.kaggle.com/kernels). "
   ]
  },
  {
   "cell_type": "markdown",
   "metadata": {},
   "source": [
    "## Setup and imports"
   ]
  },
  {
   "cell_type": "code",
   "execution_count": null,
   "metadata": {
    "id": "EYnbDi4ZtII3"
   },
   "outputs": [],
   "source": [
    "from pydensecrf.utils import unary_from_labels, create_pairwise_bilateral\n",
    "import pydensecrf.densecrf as dcrf\n",
    "from skimage.color import gray2rgb\n",
    "from skimage.color import rgb2gray\n",
    "\n",
    "from tqdm import tqdm_notebook\n",
    "import numpy as np\n",
    "import subprocess\n",
    "\n",
    "import warnings\n",
    "warnings.filterwarnings(\"ignore\")"
   ]
  },
  {
   "cell_type": "code",
   "execution_count": null,
   "metadata": {
    "colab": {
     "base_uri": "https://localhost:8080/"
    },
    "id": "JLLZmGDBvkaS",
    "outputId": "265b7579-4fec-48cc-df4d-0873d7750aed"
   },
   "outputs": [],
   "source": [
    "import psutil \n",
    "num_cpus = psutil.cpu_count(logical=False)\n",
    "\n",
    "import ray\n",
    "ray.shutdown()\n",
    "ray.init(num_cpus=num_cpus)\n",
    "\n",
    "print(f\"CPUs: {num_cpus}\")"
   ]
  },
  {
   "cell_type": "markdown",
   "metadata": {},
   "source": [
    "## Load the submission file"
   ]
  },
  {
   "cell_type": "markdown",
   "metadata": {},
   "source": [
    "Here, we load the load the submission file generated using the `Ensemble_Inference.ipynb` notebook. "
   ]
  },
  {
   "cell_type": "code",
   "execution_count": null,
   "metadata": {
    "colab": {
     "base_uri": "https://localhost:8080/"
    },
    "id": "qvkuik_ytQKc",
    "outputId": "7094b417-86db-4f73-aa57-ce2424660384"
   },
   "outputs": [],
   "source": [
    "submissions = np.load(\"submission.npy\")\n",
    "submissions.shape"
   ]
  },
  {
   "cell_type": "markdown",
   "metadata": {},
   "source": [
    "## Define CRF utility\n",
    "\n",
    "The function below is taken from [this Kaggle Kernel](https://www.kaggle.com/meaninglesslives/apply-crf). We tuned the below hyperparameters:\n",
    "\n",
    "* `sxy`\n",
    "* `compat`\n",
    "* `inference` steps"
   ]
  },
  {
   "cell_type": "code",
   "execution_count": null,
   "metadata": {
    "id": "O34Nk0vNwAjj"
   },
   "outputs": [],
   "source": [
    "@ray.remote\n",
    "def custom_crf(mask_img, shape=(256, 256)):\n",
    "    # Converting annotated image to RGB if it is Gray scale\n",
    "    if(len(mask_img.shape)<3):\n",
    "        mask_img = gray2rgb(mask_img)\n",
    "        \n",
    "    # Converting the annotations RGB color to single 32 bit integer\n",
    "    annotated_label = mask_img[:,:,0] + (mask_img[:,:,1]<<8) + (mask_img[:,:,2]<<16)\n",
    "    \n",
    "    # Convert the 32bit integer color to 0,1, 2, ... labels.\n",
    "    colors, labels = np.unique(annotated_label, return_inverse=True)\n",
    "\n",
    "    n_labels = 2\n",
    "    \n",
    "    # Setting up the CRF model\n",
    "    d = dcrf.DenseCRF2D(shape[1], shape[0], n_labels)\n",
    "\n",
    "    # Get unary potentials (neg log probability)\n",
    "    U = unary_from_labels(labels, n_labels, gt_prob=0.7, zero_unsure=False)\n",
    "    d.setUnaryEnergy(U)\n",
    "\n",
    "    # This adds the color-independent term, features are the locations only.\n",
    "    d.addPairwiseGaussian(sxy=(12, 12), compat=4, kernel=dcrf.DIAG_KERNEL,\n",
    "                      normalization=dcrf.NORMALIZE_SYMMETRIC)\n",
    "        \n",
    "    # Run Inference for 20 steps \n",
    "    Q = d.inference(20)\n",
    "\n",
    "    # Find out the most probable class for each pixel.\n",
    "    MAP = np.argmax(Q, axis=0)\n",
    "\n",
    "    return MAP.reshape((shape[0], shape[1]))"
   ]
  },
  {
   "cell_type": "markdown",
   "metadata": {},
   "source": [
    "In our experiments, we found out that the higher the values were for `sxy`, `compat`, and `inference` the better the results were. But of course, this is not practically feasible when working in a resource-constrained environment. So, it's better to settle with a score that keeps the trade-offs well balanced. "
   ]
  },
  {
   "cell_type": "markdown",
   "metadata": {},
   "source": [
    "## Apply CRF and prepare the submission file"
   ]
  },
  {
   "cell_type": "code",
   "execution_count": null,
   "metadata": {
    "colab": {
     "base_uri": "https://localhost:8080/",
     "height": 117,
     "referenced_widgets": [
      "0e1d91d543e0447fac265e6520a76818",
      "9a97279553984be289dd86bcbd96fa58",
      "900f0b8ac6b84e7996d25f1b6978fd01",
      "6f669f07c3924ff6af5d2d443c7c0feb",
      "6762a922e8cc4db6a410bb8c058c3767",
      "5cf7777dff544a9c9e58642385a0eb49",
      "5846deda351e45008aed46f448ca2755",
      "97eac1974f6c478b91739beadc57b313"
     ]
    },
    "id": "USIJLjOSwWub",
    "outputId": "934dd0d6-06e7-41ca-9ac1-7785398edd12"
   },
   "outputs": [],
   "source": [
    "crf_ids = [] \n",
    "for submission in tqdm_notebook(submissions):\n",
    "    submission_id = ray.put(submission)\n",
    "    crf_ids.append(custom_crf.remote(submission_id))\n",
    "\n",
    "crfs = ray.get(crf_ids)\n",
    "crfs = np.array(crfs).astype(\"uint8\")\n",
    "crfs.shape, crfs.dtype"
   ]
  },
  {
   "cell_type": "code",
   "execution_count": null,
   "metadata": {
    "colab": {
     "base_uri": "https://localhost:8080/"
    },
    "id": "KdTR_Oc26rf7",
    "outputId": "827d2933-8f19-41b8-cc02-82f7ce1f781d"
   },
   "outputs": [],
   "source": [
    "save_path = \"submission_crf.npy\"\n",
    "np.save(save_path, crfs, fix_imports=True, allow_pickle=False)"
   ]
  }
 ],
 "metadata": {
  "colab": {
   "include_colab_link": true,
   "machine_shape": "hm",
   "name": "scratchpad",
   "provenance": []
  },
  "kernelspec": {
   "display_name": "Python 3",
   "language": "python",
   "name": "python3"
  },
  "language_info": {
   "codemirror_mode": {
    "name": "ipython",
    "version": 3
   },
   "file_extension": ".py",
   "mimetype": "text/x-python",
   "name": "python",
   "nbconvert_exporter": "python",
   "pygments_lexer": "ipython3",
   "version": "3.8.5"
  },
  "widgets": {
   "application/vnd.jupyter.widget-state+json": {
    "0e1d91d543e0447fac265e6520a76818": {
     "model_module": "@jupyter-widgets/controls",
     "model_name": "HBoxModel",
     "state": {
      "_dom_classes": [],
      "_model_module": "@jupyter-widgets/controls",
      "_model_module_version": "1.5.0",
      "_model_name": "HBoxModel",
      "_view_count": null,
      "_view_module": "@jupyter-widgets/controls",
      "_view_module_version": "1.5.0",
      "_view_name": "HBoxView",
      "box_style": "",
      "children": [
       "IPY_MODEL_900f0b8ac6b84e7996d25f1b6978fd01",
       "IPY_MODEL_6f669f07c3924ff6af5d2d443c7c0feb"
      ],
      "layout": "IPY_MODEL_9a97279553984be289dd86bcbd96fa58"
     }
    },
    "5846deda351e45008aed46f448ca2755": {
     "model_module": "@jupyter-widgets/controls",
     "model_name": "DescriptionStyleModel",
     "state": {
      "_model_module": "@jupyter-widgets/controls",
      "_model_module_version": "1.5.0",
      "_model_name": "DescriptionStyleModel",
      "_view_count": null,
      "_view_module": "@jupyter-widgets/base",
      "_view_module_version": "1.2.0",
      "_view_name": "StyleView",
      "description_width": ""
     }
    },
    "5cf7777dff544a9c9e58642385a0eb49": {
     "model_module": "@jupyter-widgets/base",
     "model_name": "LayoutModel",
     "state": {
      "_model_module": "@jupyter-widgets/base",
      "_model_module_version": "1.2.0",
      "_model_name": "LayoutModel",
      "_view_count": null,
      "_view_module": "@jupyter-widgets/base",
      "_view_module_version": "1.2.0",
      "_view_name": "LayoutView",
      "align_content": null,
      "align_items": null,
      "align_self": null,
      "border": null,
      "bottom": null,
      "display": null,
      "flex": null,
      "flex_flow": null,
      "grid_area": null,
      "grid_auto_columns": null,
      "grid_auto_flow": null,
      "grid_auto_rows": null,
      "grid_column": null,
      "grid_gap": null,
      "grid_row": null,
      "grid_template_areas": null,
      "grid_template_columns": null,
      "grid_template_rows": null,
      "height": null,
      "justify_content": null,
      "justify_items": null,
      "left": null,
      "margin": null,
      "max_height": null,
      "max_width": null,
      "min_height": null,
      "min_width": null,
      "object_fit": null,
      "object_position": null,
      "order": null,
      "overflow": null,
      "overflow_x": null,
      "overflow_y": null,
      "padding": null,
      "right": null,
      "top": null,
      "visibility": null,
      "width": null
     }
    },
    "6762a922e8cc4db6a410bb8c058c3767": {
     "model_module": "@jupyter-widgets/controls",
     "model_name": "ProgressStyleModel",
     "state": {
      "_model_module": "@jupyter-widgets/controls",
      "_model_module_version": "1.5.0",
      "_model_name": "ProgressStyleModel",
      "_view_count": null,
      "_view_module": "@jupyter-widgets/base",
      "_view_module_version": "1.2.0",
      "_view_name": "StyleView",
      "bar_color": null,
      "description_width": "initial"
     }
    },
    "6f669f07c3924ff6af5d2d443c7c0feb": {
     "model_module": "@jupyter-widgets/controls",
     "model_name": "HTMLModel",
     "state": {
      "_dom_classes": [],
      "_model_module": "@jupyter-widgets/controls",
      "_model_module_version": "1.5.0",
      "_model_name": "HTMLModel",
      "_view_count": null,
      "_view_module": "@jupyter-widgets/controls",
      "_view_module_version": "1.5.0",
      "_view_name": "HTMLView",
      "description": "",
      "description_tooltip": null,
      "layout": "IPY_MODEL_97eac1974f6c478b91739beadc57b313",
      "placeholder": "​",
      "style": "IPY_MODEL_5846deda351e45008aed46f448ca2755",
      "value": " 12348/12348 [06:45&lt;00:00, 30.44it/s]"
     }
    },
    "900f0b8ac6b84e7996d25f1b6978fd01": {
     "model_module": "@jupyter-widgets/controls",
     "model_name": "FloatProgressModel",
     "state": {
      "_dom_classes": [],
      "_model_module": "@jupyter-widgets/controls",
      "_model_module_version": "1.5.0",
      "_model_name": "FloatProgressModel",
      "_view_count": null,
      "_view_module": "@jupyter-widgets/controls",
      "_view_module_version": "1.5.0",
      "_view_name": "ProgressView",
      "bar_style": "success",
      "description": "100%",
      "description_tooltip": null,
      "layout": "IPY_MODEL_5cf7777dff544a9c9e58642385a0eb49",
      "max": 12348,
      "min": 0,
      "orientation": "horizontal",
      "style": "IPY_MODEL_6762a922e8cc4db6a410bb8c058c3767",
      "value": 12348
     }
    },
    "97eac1974f6c478b91739beadc57b313": {
     "model_module": "@jupyter-widgets/base",
     "model_name": "LayoutModel",
     "state": {
      "_model_module": "@jupyter-widgets/base",
      "_model_module_version": "1.2.0",
      "_model_name": "LayoutModel",
      "_view_count": null,
      "_view_module": "@jupyter-widgets/base",
      "_view_module_version": "1.2.0",
      "_view_name": "LayoutView",
      "align_content": null,
      "align_items": null,
      "align_self": null,
      "border": null,
      "bottom": null,
      "display": null,
      "flex": null,
      "flex_flow": null,
      "grid_area": null,
      "grid_auto_columns": null,
      "grid_auto_flow": null,
      "grid_auto_rows": null,
      "grid_column": null,
      "grid_gap": null,
      "grid_row": null,
      "grid_template_areas": null,
      "grid_template_columns": null,
      "grid_template_rows": null,
      "height": null,
      "justify_content": null,
      "justify_items": null,
      "left": null,
      "margin": null,
      "max_height": null,
      "max_width": null,
      "min_height": null,
      "min_width": null,
      "object_fit": null,
      "object_position": null,
      "order": null,
      "overflow": null,
      "overflow_x": null,
      "overflow_y": null,
      "padding": null,
      "right": null,
      "top": null,
      "visibility": null,
      "width": null
     }
    },
    "9a97279553984be289dd86bcbd96fa58": {
     "model_module": "@jupyter-widgets/base",
     "model_name": "LayoutModel",
     "state": {
      "_model_module": "@jupyter-widgets/base",
      "_model_module_version": "1.2.0",
      "_model_name": "LayoutModel",
      "_view_count": null,
      "_view_module": "@jupyter-widgets/base",
      "_view_module_version": "1.2.0",
      "_view_name": "LayoutView",
      "align_content": null,
      "align_items": null,
      "align_self": null,
      "border": null,
      "bottom": null,
      "display": null,
      "flex": null,
      "flex_flow": null,
      "grid_area": null,
      "grid_auto_columns": null,
      "grid_auto_flow": null,
      "grid_auto_rows": null,
      "grid_column": null,
      "grid_gap": null,
      "grid_row": null,
      "grid_template_areas": null,
      "grid_template_columns": null,
      "grid_template_rows": null,
      "height": null,
      "justify_content": null,
      "justify_items": null,
      "left": null,
      "margin": null,
      "max_height": null,
      "max_width": null,
      "min_height": null,
      "min_width": null,
      "object_fit": null,
      "object_position": null,
      "order": null,
      "overflow": null,
      "overflow_x": null,
      "overflow_y": null,
      "padding": null,
      "right": null,
      "top": null,
      "visibility": null,
      "width": null
     }
    }
   }
  }
 },
 "nbformat": 4,
 "nbformat_minor": 4
}
